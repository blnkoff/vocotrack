{
 "cells": [
  {
   "cell_type": "markdown",
   "metadata": {},
   "source": [
    "# Extracting MFCC Features from Pathological dataset 2"
   ]
  },
  {
   "cell_type": "code",
   "execution_count": 1,
   "metadata": {},
   "outputs": [],
   "source": [
    "import numpy as np\n",
    "import scipy.io.wavfile\n",
    "from scipy.fftpack import fft, dct, fftshift\n",
    "import matplotlib.pyplot as plt \n",
    "from scipy import signal\n",
    "import librosa\n",
    "import librosa.display\n",
    "import pandas as pd\n",
    "from scipy.stats import skew, kurtosis"
   ]
  },
  {
   "cell_type": "code",
   "execution_count": 7,
   "metadata": {},
   "outputs": [
    {
     "data": {
      "application/vnd.microsoft.datawrangler.viewer.v0+json": {
       "columns": [
        {
         "name": "index",
         "rawType": "int64",
         "type": "integer"
        },
        {
         "name": "Speaker ID",
         "rawType": "int64",
         "type": "integer"
        },
        {
         "name": "Gender",
         "rawType": "object",
         "type": "string"
        },
        {
         "name": "Number of Words",
         "rawType": "int64",
         "type": "integer"
        },
        {
         "name": "Word ID",
         "rawType": "object",
         "type": "string"
        },
        {
         "name": "Pronunciation",
         "rawType": "int64",
         "type": "integer"
        },
        {
         "name": "Path",
         "rawType": "object",
         "type": "string"
        }
       ],
       "conversionMethod": "pd.DataFrame",
       "ref": "6882efe2-7ffe-4bb1-8c07-303b645a5f90",
       "rows": [
        [
         "0",
         "14",
         "Boy",
         "100",
         "10",
         "0",
         "ASMDD/speaker_14_b_100/10.wav"
        ],
        [
         "1",
         "14",
         "Boy",
         "100",
         "9",
         "0",
         "ASMDD/speaker_14_b_100/9.wav"
        ],
        [
         "2",
         "14",
         "Boy",
         "100",
         "3",
         "0",
         "ASMDD/speaker_14_b_100/3.wav"
        ],
        [
         "3",
         "14",
         "Boy",
         "100",
         "2",
         "0",
         "ASMDD/speaker_14_b_100/2.wav"
        ],
        [
         "4",
         "14",
         "Boy",
         "100",
         "8",
         "0",
         "ASMDD/speaker_14_b_100/8.wav"
        ],
        [
         "5",
         "14",
         "Boy",
         "100",
         "4",
         "0",
         "ASMDD/speaker_14_b_100/4.wav"
        ],
        [
         "6",
         "14",
         "Boy",
         "100",
         "6",
         "0",
         "ASMDD/speaker_14_b_100/6.wav"
        ],
        [
         "7",
         "14",
         "Boy",
         "100",
         "7",
         "0",
         "ASMDD/speaker_14_b_100/7.wav"
        ],
        [
         "8",
         "14",
         "Boy",
         "100",
         "27",
         "0",
         "ASMDD/speaker_14_b_100/27.wav"
        ],
        [
         "9",
         "14",
         "Boy",
         "100",
         "28",
         "0",
         "ASMDD/speaker_14_b_100/28.wav"
        ],
        [
         "10",
         "14",
         "Boy",
         "100",
         "38",
         "0",
         "ASMDD/speaker_14_b_100/38.wav"
        ],
        [
         "11",
         "14",
         "Boy",
         "100",
         "42",
         "0",
         "ASMDD/speaker_14_b_100/42.wav"
        ],
        [
         "12",
         "14",
         "Boy",
         "100",
         "46",
         "0",
         "ASMDD/speaker_14_b_100/46.wav"
        ],
        [
         "13",
         "14",
         "Boy",
         "100",
         "18",
         "0",
         "ASMDD/speaker_14_b_100/18.wav"
        ],
        [
         "14",
         "14",
         "Boy",
         "100",
         "21",
         "0",
         "ASMDD/speaker_14_b_100/21.wav"
        ],
        [
         "15",
         "14",
         "Boy",
         "100",
         "16",
         "0",
         "ASMDD/speaker_14_b_100/16.wav"
        ],
        [
         "16",
         "14",
         "Boy",
         "100",
         "53",
         "0",
         "ASMDD/speaker_14_b_100/53.wav"
        ],
        [
         "17",
         "14",
         "Boy",
         "100",
         "37",
         "0",
         "ASMDD/speaker_14_b_100/37.wav"
        ],
        [
         "18",
         "14",
         "Boy",
         "100",
         "45",
         "0",
         "ASMDD/speaker_14_b_100/45.wav"
        ],
        [
         "19",
         "14",
         "Boy",
         "100",
         "24",
         "0",
         "ASMDD/speaker_14_b_100/24.wav"
        ],
        [
         "20",
         "14",
         "Boy",
         "100",
         "30",
         "0",
         "ASMDD/speaker_14_b_100/30.wav"
        ],
        [
         "21",
         "14",
         "Boy",
         "100",
         "51",
         "0",
         "ASMDD/speaker_14_b_100/51.wav"
        ],
        [
         "22",
         "14",
         "Boy",
         "100",
         "57",
         "0",
         "ASMDD/speaker_14_b_100/57.wav"
        ],
        [
         "23",
         "14",
         "Boy",
         "100",
         "23",
         "0",
         "ASMDD/speaker_14_b_100/23.wav"
        ],
        [
         "24",
         "14",
         "Boy",
         "100",
         "20",
         "0",
         "ASMDD/speaker_14_b_100/20.wav"
        ],
        [
         "25",
         "14",
         "Boy",
         "100",
         "52",
         "0",
         "ASMDD/speaker_14_b_100/52.wav"
        ],
        [
         "26",
         "14",
         "Boy",
         "100",
         "25",
         "0",
         "ASMDD/speaker_14_b_100/25.wav"
        ],
        [
         "27",
         "14",
         "Boy",
         "100",
         "15",
         "0",
         "ASMDD/speaker_14_b_100/15.wav"
        ],
        [
         "28",
         "14",
         "Boy",
         "100",
         "43",
         "0",
         "ASMDD/speaker_14_b_100/43.wav"
        ],
        [
         "29",
         "14",
         "Boy",
         "100",
         "54",
         "0",
         "ASMDD/speaker_14_b_100/54.wav"
        ],
        [
         "30",
         "14",
         "Boy",
         "100",
         "33",
         "0",
         "ASMDD/speaker_14_b_100/33.wav"
        ],
        [
         "31",
         "14",
         "Boy",
         "100",
         "31",
         "0",
         "ASMDD/speaker_14_b_100/31.wav"
        ],
        [
         "32",
         "14",
         "Boy",
         "100",
         "14",
         "0",
         "ASMDD/speaker_14_b_100/14.wav"
        ],
        [
         "33",
         "14",
         "Boy",
         "100",
         "49",
         "0",
         "ASMDD/speaker_14_b_100/49.wav"
        ],
        [
         "34",
         "14",
         "Boy",
         "100",
         "56",
         "0",
         "ASMDD/speaker_14_b_100/56.wav"
        ],
        [
         "35",
         "14",
         "Boy",
         "100",
         "39",
         "0",
         "ASMDD/speaker_14_b_100/39.wav"
        ],
        [
         "36",
         "14",
         "Boy",
         "100",
         "32",
         "0",
         "ASMDD/speaker_14_b_100/32.wav"
        ],
        [
         "37",
         "14",
         "Boy",
         "100",
         "13",
         "0",
         "ASMDD/speaker_14_b_100/13.wav"
        ],
        [
         "38",
         "14",
         "Boy",
         "100",
         "40",
         "0",
         "ASMDD/speaker_14_b_100/40.wav"
        ],
        [
         "39",
         "14",
         "Boy",
         "100",
         "22",
         "0",
         "ASMDD/speaker_14_b_100/22.wav"
        ],
        [
         "40",
         "14",
         "Boy",
         "100",
         "11",
         "0",
         "ASMDD/speaker_14_b_100/11.wav"
        ],
        [
         "41",
         "14",
         "Boy",
         "100",
         "26",
         "0",
         "ASMDD/speaker_14_b_100/26.wav"
        ],
        [
         "42",
         "14",
         "Boy",
         "100",
         "29",
         "0",
         "ASMDD/speaker_14_b_100/29.wav"
        ],
        [
         "43",
         "14",
         "Boy",
         "100",
         "41",
         "0",
         "ASMDD/speaker_14_b_100/41.wav"
        ],
        [
         "44",
         "14",
         "Boy",
         "100",
         "34",
         "0",
         "ASMDD/speaker_14_b_100/34.wav"
        ],
        [
         "45",
         "14",
         "Boy",
         "100",
         "19",
         "0",
         "ASMDD/speaker_14_b_100/19.wav"
        ],
        [
         "46",
         "14",
         "Boy",
         "100",
         "44",
         "0",
         "ASMDD/speaker_14_b_100/44.wav"
        ],
        [
         "47",
         "14",
         "Boy",
         "100",
         "55",
         "0",
         "ASMDD/speaker_14_b_100/55.wav"
        ],
        [
         "48",
         "14",
         "Boy",
         "100",
         "17",
         "0",
         "ASMDD/speaker_14_b_100/17.wav"
        ],
        [
         "49",
         "14",
         "Boy",
         "100",
         "70",
         "0",
         "ASMDD/speaker_14_b_100/70.wav"
        ]
       ],
       "shape": {
        "columns": 6,
        "rows": 5297
       }
      },
      "text/html": [
       "<div>\n",
       "<style scoped>\n",
       "    .dataframe tbody tr th:only-of-type {\n",
       "        vertical-align: middle;\n",
       "    }\n",
       "\n",
       "    .dataframe tbody tr th {\n",
       "        vertical-align: top;\n",
       "    }\n",
       "\n",
       "    .dataframe thead th {\n",
       "        text-align: right;\n",
       "    }\n",
       "</style>\n",
       "<table border=\"1\" class=\"dataframe\">\n",
       "  <thead>\n",
       "    <tr style=\"text-align: right;\">\n",
       "      <th></th>\n",
       "      <th>Speaker ID</th>\n",
       "      <th>Gender</th>\n",
       "      <th>Number of Words</th>\n",
       "      <th>Word ID</th>\n",
       "      <th>Pronunciation</th>\n",
       "      <th>Path</th>\n",
       "    </tr>\n",
       "  </thead>\n",
       "  <tbody>\n",
       "    <tr>\n",
       "      <th>0</th>\n",
       "      <td>14</td>\n",
       "      <td>Boy</td>\n",
       "      <td>100</td>\n",
       "      <td>10</td>\n",
       "      <td>0</td>\n",
       "      <td>ASMDD/speaker_14_b_100/10.wav</td>\n",
       "    </tr>\n",
       "    <tr>\n",
       "      <th>1</th>\n",
       "      <td>14</td>\n",
       "      <td>Boy</td>\n",
       "      <td>100</td>\n",
       "      <td>9</td>\n",
       "      <td>0</td>\n",
       "      <td>ASMDD/speaker_14_b_100/9.wav</td>\n",
       "    </tr>\n",
       "    <tr>\n",
       "      <th>2</th>\n",
       "      <td>14</td>\n",
       "      <td>Boy</td>\n",
       "      <td>100</td>\n",
       "      <td>3</td>\n",
       "      <td>0</td>\n",
       "      <td>ASMDD/speaker_14_b_100/3.wav</td>\n",
       "    </tr>\n",
       "    <tr>\n",
       "      <th>3</th>\n",
       "      <td>14</td>\n",
       "      <td>Boy</td>\n",
       "      <td>100</td>\n",
       "      <td>2</td>\n",
       "      <td>0</td>\n",
       "      <td>ASMDD/speaker_14_b_100/2.wav</td>\n",
       "    </tr>\n",
       "    <tr>\n",
       "      <th>4</th>\n",
       "      <td>14</td>\n",
       "      <td>Boy</td>\n",
       "      <td>100</td>\n",
       "      <td>8</td>\n",
       "      <td>0</td>\n",
       "      <td>ASMDD/speaker_14_b_100/8.wav</td>\n",
       "    </tr>\n",
       "    <tr>\n",
       "      <th>...</th>\n",
       "      <td>...</td>\n",
       "      <td>...</td>\n",
       "      <td>...</td>\n",
       "      <td>...</td>\n",
       "      <td>...</td>\n",
       "      <td>...</td>\n",
       "    </tr>\n",
       "    <tr>\n",
       "      <th>5292</th>\n",
       "      <td>99</td>\n",
       "      <td>Boy</td>\n",
       "      <td>50</td>\n",
       "      <td>5</td>\n",
       "      <td>1</td>\n",
       "      <td>ASMDD/speaker_99_b_50/5_N.wav</td>\n",
       "    </tr>\n",
       "    <tr>\n",
       "      <th>5293</th>\n",
       "      <td>99</td>\n",
       "      <td>Boy</td>\n",
       "      <td>50</td>\n",
       "      <td>28</td>\n",
       "      <td>1</td>\n",
       "      <td>ASMDD/speaker_99_b_50/28_N.wav</td>\n",
       "    </tr>\n",
       "    <tr>\n",
       "      <th>5294</th>\n",
       "      <td>99</td>\n",
       "      <td>Boy</td>\n",
       "      <td>50</td>\n",
       "      <td>31</td>\n",
       "      <td>1</td>\n",
       "      <td>ASMDD/speaker_99_b_50/31_N.wav</td>\n",
       "    </tr>\n",
       "    <tr>\n",
       "      <th>5295</th>\n",
       "      <td>99</td>\n",
       "      <td>Boy</td>\n",
       "      <td>50</td>\n",
       "      <td>42</td>\n",
       "      <td>0</td>\n",
       "      <td>ASMDD/speaker_99_b_50/42.wav</td>\n",
       "    </tr>\n",
       "    <tr>\n",
       "      <th>5296</th>\n",
       "      <td>99</td>\n",
       "      <td>Boy</td>\n",
       "      <td>50</td>\n",
       "      <td>41</td>\n",
       "      <td>0</td>\n",
       "      <td>ASMDD/speaker_99_b_50/41.wav</td>\n",
       "    </tr>\n",
       "  </tbody>\n",
       "</table>\n",
       "<p>5297 rows × 6 columns</p>\n",
       "</div>"
      ],
      "text/plain": [
       "      Speaker ID Gender  Number of Words Word ID  Pronunciation  \\\n",
       "0             14    Boy              100      10              0   \n",
       "1             14    Boy              100       9              0   \n",
       "2             14    Boy              100       3              0   \n",
       "3             14    Boy              100       2              0   \n",
       "4             14    Boy              100       8              0   \n",
       "...          ...    ...              ...     ...            ...   \n",
       "5292          99    Boy               50       5              1   \n",
       "5293          99    Boy               50      28              1   \n",
       "5294          99    Boy               50      31              1   \n",
       "5295          99    Boy               50      42              0   \n",
       "5296          99    Boy               50      41              0   \n",
       "\n",
       "                                Path  \n",
       "0      ASMDD/speaker_14_b_100/10.wav  \n",
       "1       ASMDD/speaker_14_b_100/9.wav  \n",
       "2       ASMDD/speaker_14_b_100/3.wav  \n",
       "3       ASMDD/speaker_14_b_100/2.wav  \n",
       "4       ASMDD/speaker_14_b_100/8.wav  \n",
       "...                              ...  \n",
       "5292   ASMDD/speaker_99_b_50/5_N.wav  \n",
       "5293  ASMDD/speaker_99_b_50/28_N.wav  \n",
       "5294  ASMDD/speaker_99_b_50/31_N.wav  \n",
       "5295    ASMDD/speaker_99_b_50/42.wav  \n",
       "5296    ASMDD/speaker_99_b_50/41.wav  \n",
       "\n",
       "[5297 rows x 6 columns]"
      ]
     },
     "execution_count": 7,
     "metadata": {},
     "output_type": "execute_result"
    }
   ],
   "source": [
    "from utils import RAW_DATA_PATH\n",
    "\n",
    "df = pd.read_csv(RAW_DATA_PATH / 'ASMDD.csv')\n",
    "\n",
    "df['Pronunciation'] = np.int_(df['Pronunciation'] == 'Wrong')\n",
    "\n",
    "df"
   ]
  },
  {
   "cell_type": "code",
   "execution_count": 42,
   "metadata": {},
   "outputs": [],
   "source": [
    "right_paths = df[df['Pronunciation'] == 0]['Path'].values\n",
    "\n",
    "right_paths = str(RAW_DATA_PATH) + '/' + right_paths + '\\n'\n",
    "right_paths[-1] = right_paths[-1].strip('\\n')\n",
    "\n",
    "with open('healthy_wav_files.txt', 'w') as file:\n",
    "    file.writelines(right_paths)\n",
    "    \n",
    "\n",
    "wrong_paths = df[df['Pronunciation'] == 1]['Path'].values\n",
    "wrong_paths = str(RAW_DATA_PATH) + '/' + wrong_paths + '\\n'\n",
    "wrong_paths[-1] = wrong_paths[-1].strip('\\n')\n",
    "\n",
    "with open('patient_wav_files.txt', 'w') as file:\n",
    "    file.writelines(wrong_paths)\n",
    "    "
   ]
  },
  {
   "cell_type": "code",
   "execution_count": 18,
   "metadata": {},
   "outputs": [],
   "source": [
    "def plotAudio(audio, sample_rate):\n",
    "    plt.figure(figsize=(17,5))\n",
    "    plt.plot(np.linspace(0, len(audio) / sample_rate, num=len(audio)), audio)\n",
    "    plt.grid(True)"
   ]
  },
  {
   "cell_type": "code",
   "execution_count": 19,
   "metadata": {},
   "outputs": [],
   "source": [
    "def loadAudioFile(filename):\n",
    "    fs, audioInput = scipy.io.wavfile.read(filename)\n",
    "    return audioInput, fs"
   ]
  },
  {
   "cell_type": "code",
   "execution_count": 20,
   "metadata": {},
   "outputs": [],
   "source": [
    "def preemphasis(audioInput):\n",
    "    alpha = 0.95\n",
    "    emphasized_audio = np.append(audioInput[0], audioInput[1:] - alpha * audioInput[:-1])\n",
    "    return emphasized_audio"
   ]
  },
  {
   "cell_type": "code",
   "execution_count": 21,
   "metadata": {},
   "outputs": [],
   "source": [
    "def frameBlocking(audio, frameSize, overlap):\n",
    "    frameSize = int(frameSize)\n",
    "    overlap = int(overlap)\n",
    "    num_frames = int(np.ceil(len(audio)/(frameSize - overlap))) \n",
    "\n",
    "    padding = ((frameSize-overlap)*num_frames) - len(audio) \n",
    "    zeros = np.zeros((padding))\n",
    "    audio = np.append(audio, zeros) \n",
    "    \n",
    "    frames = np.empty((frameSize, num_frames)) \n",
    "    start = 0\n",
    "    for i in range(num_frames):\n",
    "        frames[:,i] = audio[start:start + frameSize]\n",
    "        start = (frameSize-overlap)*i \n",
    "        \n",
    "    frames = frames.T\n",
    "    \n",
    "    return frames"
   ]
  },
  {
   "cell_type": "code",
   "execution_count": 22,
   "metadata": {},
   "outputs": [],
   "source": [
    "def applyWindow(frames, frameSize):\n",
    "    \n",
    "    window = np.hamming(frameSize)\n",
    "    windowed_frames = frames * window\n",
    "    \n",
    "    return windowed_frames"
   ]
  },
  {
   "cell_type": "code",
   "execution_count": 23,
   "metadata": {},
   "outputs": [],
   "source": [
    "def findPeriodogram(windowed_frames, frameSize, nfft):\n",
    "    audio_fft = np.absolute(fft(windowed_frames,nfft))\n",
    "    audio_fft = audio_fft[:,:nfft//2+1]\n",
    "\n",
    "    periodogram = ((1.0 / nfft) * ((audio_fft) ** 2))\n",
    "    \n",
    "    return periodogram"
   ]
  },
  {
   "cell_type": "code",
   "execution_count": 24,
   "metadata": {},
   "outputs": [],
   "source": [
    "def createMelFilterBank(numFilters, nfft, fs):\n",
    "    fmin_mel = 0\n",
    "    fmax_mel = (2595 * np.log10(1 + (fs // 2) / 700))\n",
    "    mel = np.linspace(fmin_mel, fmax_mel, numFilters+2)\n",
    "    hertz = (700 * (10**(mel / 2595) - 1))\n",
    "    fbins = np.floor((nfft + 1) * hertz / fs)\n",
    "    fbank = np.zeros((nfft//2+1, numFilters))\n",
    "    \n",
    "    for i in range(1,numFilters+1):\n",
    "        for k in range(int(nfft//2 + 1)):\n",
    "            if k < fbins[i-1]:\n",
    "                fbank[k, i-1] = 0\n",
    "            elif k >= fbins[i-1] and k < fbins[i]:\n",
    "                fbank[k,i-1] = (k - fbins[i-1])/(fbins[i] - fbins[i-1])\n",
    "            elif k >= fbins[i] and k < fbins[i+1]:\n",
    "                fbank[k,i-1] = (fbins[i+1] - k)/(fbins[i+1] - fbins[i])\n",
    "            else:\n",
    "                fbank[k,i-1] = 0\n",
    "    \n",
    "    return fbank"
   ]
  },
  {
   "cell_type": "code",
   "execution_count": 25,
   "metadata": {},
   "outputs": [],
   "source": [
    "def filtering(periodogram, fbank):    \n",
    "    melFiltered = np.log10(np.dot(periodogram, fbank))\n",
    "    return melFiltered"
   ]
  },
  {
   "cell_type": "code",
   "execution_count": 26,
   "metadata": {},
   "outputs": [],
   "source": [
    "def findMFCC(melFiltered):\n",
    "    mel_coeff = dct(melFiltered, type=3)\n",
    "    return mel_coeff "
   ]
  },
  {
   "cell_type": "code",
   "execution_count": 27,
   "metadata": {},
   "outputs": [],
   "source": [
    "def meanNormalisation(mfcc):    \n",
    "    norm_mfcc = mfcc - (np.mean(mfcc, axis=0) + 1e-8)\n",
    "    return norm_mfcc"
   ]
  },
  {
   "cell_type": "code",
   "execution_count": 37,
   "metadata": {},
   "outputs": [],
   "source": [
    "def extractMfcc(flag):\n",
    "    feat = np.zeros((1,48))\n",
    "    nfft = 512;\n",
    "    maxi = -1\n",
    "    numFilters = 12\n",
    "    fbank = createMelFilterBank(numFilters, nfft, 44100)\n",
    "    if(flag == 1):\n",
    "        file = open('./patient_wav_files.txt').read()\n",
    "    else:\n",
    "        file = open('./healthy_wav_files.txt').read()\n",
    "    audio_files = file.split('\\n')\n",
    "    for num, filename in enumerate(audio_files):\n",
    "        audioInput, fs = loadAudioFile(filename)\n",
    "#         highest = 202272\n",
    "        frameSize = 0.020*fs\n",
    "        overlap = (frameSize/2)\n",
    "        emphasized_audio = preemphasis(audioInput)\n",
    "        frames = frameBlocking(emphasized_audio, frameSize, overlap)\n",
    "        windowed_frames = applyWindow(frames, frameSize)\n",
    "        periodogram = findPeriodogram(windowed_frames, frameSize, nfft)\n",
    "        melFiltered = filtering(periodogram, fbank)\n",
    "        mfcc = findMFCC(melFiltered)\n",
    "        mean_normalized_mfcc = meanNormalisation(mfcc)\n",
    "#         audio_num = str(flag)+str(num)\n",
    "        mean_normalized_mfcc = np.transpose(mean_normalized_mfcc)\n",
    "#         print(mean_normalized_mfcc.shape)\n",
    "        ar = []\n",
    "        for coefficient in mean_normalized_mfcc:\n",
    "            cm = np.mean(coefficient)\n",
    "            cstd = np.std(coefficient)\n",
    "            cskew = skew(coefficient)\n",
    "            ckurtosis = kurtosis(coefficient)\n",
    "            ar.append(cm)\n",
    "            ar.extend([cstd, cskew, ckurtosis])\n",
    "#         print(len(ar))\n",
    "        feat = np.vstack((feat, ar))\n",
    "    return feat"
   ]
  },
  {
   "cell_type": "code",
   "execution_count": 43,
   "metadata": {},
   "outputs": [
    {
     "name": "stderr",
     "output_type": "stream",
     "text": [
      "/var/folders/vv/hdp_tqr92vj227jyt1bp9v7c0000gn/T/ipykernel_40322/585225293.py:2: WavFileWarning: Chunk (non-data) not understood, skipping it.\n",
      "  fs, audioInput = scipy.io.wavfile.read(filename)\n"
     ]
    }
   ],
   "source": [
    "patient_feature_frames = extractMfcc(1)"
   ]
  },
  {
   "cell_type": "code",
   "execution_count": 45,
   "metadata": {},
   "outputs": [
    {
     "name": "stdout",
     "output_type": "stream",
     "text": [
      "[0. 0. 0. 0. 0. 0. 0. 0. 0. 0. 0. 0. 0. 0. 0. 0. 0. 0. 0. 0. 0. 0. 0. 0.\n",
      " 0. 0. 0. 0. 0. 0. 0. 0. 0. 0. 0. 0. 0. 0. 0. 0. 0. 0. 0. 0. 0. 0. 0. 0.]\n"
     ]
    }
   ],
   "source": [
    "print(patient_feature_frames[0])"
   ]
  },
  {
   "cell_type": "code",
   "execution_count": 46,
   "metadata": {},
   "outputs": [
    {
     "name": "stderr",
     "output_type": "stream",
     "text": [
      "/var/folders/vv/hdp_tqr92vj227jyt1bp9v7c0000gn/T/ipykernel_40322/585225293.py:2: WavFileWarning: Chunk (non-data) not understood, skipping it.\n",
      "  fs, audioInput = scipy.io.wavfile.read(filename)\n"
     ]
    }
   ],
   "source": [
    "healthy_feature_frames = extractMfcc(0)"
   ]
  },
  {
   "cell_type": "code",
   "execution_count": 47,
   "metadata": {},
   "outputs": [
    {
     "name": "stdout",
     "output_type": "stream",
     "text": [
      "(758, 48) (4541, 48)\n"
     ]
    }
   ],
   "source": [
    "# patient_feature_frames = np.delete(patient_feature_frames, 0, 0)\n",
    "# healthy_feature_frames = np.delete(healthy_feature_frames, 0, 0)\n",
    "\n",
    "# patient_feature_frames = np.delete(patient_feature_frames, 13, 1)\n",
    "# healthy_feature_frames = np.delete(healthy_feature_frames, 13, 1)\n",
    "\n",
    "print(patient_feature_frames.shape, healthy_feature_frames.shape)"
   ]
  },
  {
   "cell_type": "code",
   "execution_count": 48,
   "metadata": {},
   "outputs": [],
   "source": [
    "np.savetxt('./mfcc_features_patient.csv', patient_feature_frames)"
   ]
  },
  {
   "cell_type": "code",
   "execution_count": 49,
   "metadata": {},
   "outputs": [],
   "source": [
    "np.savetxt('./mfcc_features_healthy.csv', healthy_feature_frames)"
   ]
  },
  {
   "cell_type": "code",
   "execution_count": null,
   "metadata": {},
   "outputs": [],
   "source": []
  }
 ],
 "metadata": {
  "kernelspec": {
   "display_name": ".venv",
   "language": "python",
   "name": "python3"
  },
  "language_info": {
   "codemirror_mode": {
    "name": "ipython",
    "version": 3
   },
   "file_extension": ".py",
   "mimetype": "text/x-python",
   "name": "python",
   "nbconvert_exporter": "python",
   "pygments_lexer": "ipython3",
   "version": "3.12.8"
  }
 },
 "nbformat": 4,
 "nbformat_minor": 4
}
