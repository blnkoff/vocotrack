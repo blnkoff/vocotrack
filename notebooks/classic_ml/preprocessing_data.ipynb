{
 "cells": [
  {
   "cell_type": "markdown",
   "id": "342436a8bb94039f",
   "metadata": {},
   "source": [
    "# Preprocessing"
   ]
  },
  {
   "cell_type": "code",
   "execution_count": 2,
   "id": "a04c5577b02ec704",
   "metadata": {
    "ExecuteTime": {
     "end_time": "2025-04-23T17:54:09.476170Z",
     "start_time": "2025-04-23T17:54:09.384768Z"
    }
   },
   "outputs": [],
   "source": [
    "import librosa\n",
    "import joblib\n",
    "import numpy as np\n",
    "import pandas as pd\n",
    "import seaborn as sns\n",
    "from typing import Any\n",
    "from sklearn.model_selection import train_test_split\n",
    "from utils import RAW_DATA_PATH, CSV_PATH\n",
    "from numpy.typing import NDArray\n",
    "\n",
    "type FloatArray = NDArray[np.floating[Any]]\n",
    "\n",
    "sns.set_style(\"whitegrid\")"
   ]
  },
  {
   "cell_type": "code",
   "execution_count": 3,
   "id": "6a654df89b3ec261",
   "metadata": {},
   "outputs": [],
   "source": [
    "df = pd.read_csv(CSV_PATH)\n",
    "df = df.drop(['Speaker ID', 'Number of Words'], axis=1)\n",
    "df['Pronunciation'] = np.int_(df['Pronunciation'] == 'Wrong')\n",
    "df['Word ID'] = df['Word ID'].str.extract(r'^(\\d+)').astype(int)[0]\n",
    "\n",
    "def load_audio(path: str, sr: int = 22050) -> dict[str, FloatArray | int]:\n",
    "    y, sr = librosa.load(RAW_DATA_PATH / path, sr=sr)\n",
    "    return {'values': y, 'sr': sr}\n",
    "\n",
    "df['Audio'] = df['Path'].apply(lambda x: load_audio(x)['values'])\n",
    "df['SR'] = df['Path'].apply(lambda x: load_audio(x)['sr'])\n",
    "df.drop('Path', axis=1, inplace=True)\n",
    "df['Gender'] = np.int_(df['Gender'] == 'Boy')\n",
    "\n",
    "target = 'Pronunciation'\n",
    "X, y = df.drop(target, axis=1), df[target]\n",
    "\n",
    "X_train, X_test, y_train, y_test = train_test_split(X, y, stratify=df[target], test_size=0.2, random_state=42)"
   ]
  },
  {
   "cell_type": "code",
   "execution_count": null,
   "id": "c31d841632bd3370",
   "metadata": {},
   "outputs": [],
   "source": [
    "train_df = X_train.copy()\n",
    "train_df[target] = y_train\n",
    "\n",
    "test_df = X_test.copy()\n",
    "test_df[target] = y_test\n",
    "\n",
    "train_df.to_feather(RAW_DATA_PATH / 'train.feather.lz4', compression='lz4') \n",
    "test_df.to_feather(RAW_DATA_PATH / 'test.feather.lz4', compression='lz4')  "
   ]
  }
 ],
 "metadata": {
  "kernelspec": {
   "display_name": ".venv",
   "language": "python",
   "name": "python3"
  },
  "language_info": {
   "codemirror_mode": {
    "name": "ipython",
    "version": 3
   },
   "file_extension": ".py",
   "mimetype": "text/x-python",
   "name": "python",
   "nbconvert_exporter": "python",
   "pygments_lexer": "ipython3",
   "version": "3.12.8"
  }
 },
 "nbformat": 4,
 "nbformat_minor": 5
}
